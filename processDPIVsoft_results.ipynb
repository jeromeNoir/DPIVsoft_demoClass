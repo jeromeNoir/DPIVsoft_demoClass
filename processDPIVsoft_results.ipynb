{
 "cells": [
  {
   "cell_type": "code",
   "execution_count": 1,
   "id": "4238152f",
   "metadata": {},
   "outputs": [],
   "source": [
    "# Standar libraries\n",
    "import numpy as np\n",
    "import matplotlib.pyplot as plt\n",
    "from scipy.optimize import curve_fit\n",
    "import cv2\n",
    "import time\n",
    "import os\n",
    "import dpivsoft.Postprocessing as post\n",
    "from scipy.spatial import distance\n",
    "from mpl_toolkits.axes_grid1 import make_axes_locatable\n",
    "from scipy.interpolate import griddata\n",
    "import matplotlib.pyplot as plt\n",
    "from matplotlib.patches import Rectangle\n",
    "\n",
    "%matplotlib qt"
   ]
  },
  {
   "cell_type": "markdown",
   "id": "6d0e43f9",
   "metadata": {},
   "source": [
    "# Set the Directories"
   ]
  },
  {
   "cell_type": "code",
   "execution_count": 2,
   "id": "1c163028",
   "metadata": {},
   "outputs": [
    {
     "name": "stdout",
     "output_type": "stream",
     "text": [
      "2231  files found\n"
     ]
    }
   ],
   "source": [
    "dirResults = \"./EPM_3992_results_piv16x16/0-2231_5digits/\"\n",
    "dirImages = \"./EPM_3992_frame/\"\n",
    "extension = 'npz'\n",
    "dt=1/60  # s\n",
    "\n",
    "if not os.path.exists(dirResults):\n",
    "    print(\"Unknown directory\" )\n",
    "else:\n",
    "    files = os.listdir(dirResults)\n",
    "    files = sorted([i for i in files if i.endswith(extension)])\n",
    "    #print(files)\n",
    "\n",
    "# Load background image (adjust filename as needed)\n",
    "frame_path = dirImages + \"frame_0000.jpg\"\n",
    "img = cv2.imread(frame_path, cv2.IMREAD_GRAYSCALE)\n",
    "\n",
    "print(len(files), \" files found\")"
   ]
  },
  {
   "cell_type": "markdown",
   "id": "c5f021e9",
   "metadata": {},
   "source": [
    "# Ploting single PIV field results"
   ]
  },
  {
   "cell_type": "markdown",
   "id": "bc86b14b",
   "metadata": {},
   "source": [
    "## Load single dpivsoft field"
   ]
  },
  {
   "cell_type": "code",
   "execution_count": 3,
   "id": "4354338e",
   "metadata": {},
   "outputs": [],
   "source": [
    "#Load PIV results\n",
    "FrameToprocess = 0  # Adjust index as needed\n",
    "time_stamp = int(FrameToprocess * dt)\n",
    "filename = dirResults + files[FrameToprocess]  # Adjust index as needed\n",
    "Data = np.load(filename)\n",
    "x = Data['x']\n",
    "y = Data['y']\n",
    "u = Data['u']\n",
    "v = Data['v']\n",
    "velocity_magnitude = np.sqrt(u**2 + v**2)\n",
    "X, Y, vorticity = post.vorticity(x, y, u, v, 'circulation')\n",
    "velocity_divergence = post.divergence(x,y,u,v)\n"
   ]
  },
  {
   "cell_type": "markdown",
   "id": "e92c9db6",
   "metadata": {},
   "source": [
    "# Plot quiver\n"
   ]
  },
  {
   "cell_type": "code",
   "execution_count": 4,
   "id": "patient-intermediate",
   "metadata": {},
   "outputs": [],
   "source": [
    "fig, ax1 = plt.subplots(figsize=(10, 6))\n",
    "ax1.quiver(x, y, u, v, scale=1,zorder=1)\n",
    "ax1.set_xlabel('x (m)',fontsize=18)\n",
    "ax1.set_ylabel('y (m)',fontsize=18)\n",
    "ax1.imshow(img, cmap='gray', origin='upper', extent=[x.min(), x.max(), y.min(), y.max()], alpha=0.3,zorder=2)\n",
    "ax1.set_title('Instantenous velocity Field at '+str(time_stamp)+ 's',fontsize=18)\n",
    "# Save the figure as PNG\n",
    "figname=dirResults+'Figure_velocityVector_at_'+str(time_stamp)+'s.png'\n",
    "fig.savefig(figname, dpi=300, bbox_inches='tight')"
   ]
  },
  {
   "cell_type": "markdown",
   "id": "4babf622",
   "metadata": {},
   "source": [
    "## Plot velocity magnitude"
   ]
  },
  {
   "cell_type": "code",
   "execution_count": 5,
   "id": "b03a13db",
   "metadata": {},
   "outputs": [
    {
     "name": "stdout",
     "output_type": "stream",
     "text": [
      "./EPM_3992_results_piv16x16/0-2231_5digits/gpu_field_00000.npz\n"
     ]
    }
   ],
   "source": [
    "# PLot vvelocity magnitude\n",
    "print(filename)\n",
    "vmin = 0 # Set your desired minimum value\n",
    "vmax = 0.02 #velocity_magnitude.max() # Or set a custom maximum value\n",
    "\n",
    "fig, ax = plt.subplots(figsize=(10, 6))\n",
    "c = ax.pcolormesh(x, y, velocity_magnitude, shading='auto', cmap='inferno', vmin=vmin, vmax=vmax,zorder=1)\n",
    "ax.imshow(img, cmap='gray', origin='upper', extent=[x.min(), x.max(), y.min(), y.max()], alpha=0.5,zorder=2)\n",
    "ax.set_xlabel('x (m)', fontsize=18)\n",
    "ax.set_ylabel('y (m)', fontsize=18)\n",
    "ax.set_title('Instantenous velocity magnitude at '+str(time_stamp)+ 's',fontsize=18)\n",
    "# Make the colorbar the same height as the plot\n",
    "divider = make_axes_locatable(ax)\n",
    "cax = divider.append_axes(\"right\", size=\"5%\", pad=0.05)\n",
    "fig.colorbar(c, cax=cax, label='Velocity Magnitude (u² + v²) in m/s at ' )\n",
    "plt.show()\n",
    "# Save the figure as PNG\n",
    "figname=dirResults+'Figure_velocityMagnitude_at_'+str(time_stamp)+'s.png'\n",
    "fig.savefig(figname, dpi=300, bbox_inches='tight')"
   ]
  },
  {
   "cell_type": "markdown",
   "id": "245b72cb",
   "metadata": {},
   "source": [
    "## Plot vorticity"
   ]
  },
  {
   "cell_type": "code",
   "execution_count": 6,
   "id": "82fc0ff5",
   "metadata": {},
   "outputs": [
    {
     "name": "stderr",
     "output_type": "stream",
     "text": [
      "/var/folders/0k/7cbvxwfn3tz4twsbtpvx93s40000gn/T/ipykernel_50293/2807639863.py:12: UserWarning: Adding colorbar to a different Figure <Figure size 2000x1200 with 2 Axes> than <Figure size 2000x1200 with 2 Axes> which fig.colorbar is called on.\n",
      "  fig.colorbar(c, cax=cax, label='Vorticity')\n"
     ]
    }
   ],
   "source": [
    "# PLot vorticity\n",
    "X, Y, w = post.vorticity(x, y, u, v, 'circulation')\n",
    "fig, ax = plt.subplots(figsize=(10, 6))\n",
    "cf = ax.contourf(X, Y, w, 50, cmap='jet',zorder=1)\n",
    "ax.imshow(img, cmap='gray', origin='upper', extent=[x.min(), x.max(), y.min(), y.max()], alpha=0.5,zorder=2)\n",
    "ax.set_xlabel('x (m)',fontsize=18)\n",
    "ax.set_ylabel('y (m)',fontsize=18)\n",
    "ax.set_title('Instantenous vorticity at '+str(time_stamp)+ 's',fontsize=18)\n",
    "# Make the colorbar the same height as the plot\n",
    "divider = make_axes_locatable(ax)\n",
    "cax = divider.append_axes(\"right\", size=\"5%\", pad=0.05)\n",
    "fig.colorbar(c, cax=cax, label='Vorticity')\n",
    "plt.show()\n",
    "# Save the figure as PNG\n",
    "figname=dirResults+'Figure_vorticity_at_'+str(time_stamp)+'s.png'\n",
    "fig.savefig(figname, dpi=300, bbox_inches='tight')\n"
   ]
  },
  {
   "cell_type": "markdown",
   "id": "f0c394b8",
   "metadata": {},
   "source": [
    "## Plot divergence"
   ]
  },
  {
   "cell_type": "code",
   "execution_count": 7,
   "id": "ac74f172",
   "metadata": {},
   "outputs": [
    {
     "name": "stderr",
     "output_type": "stream",
     "text": [
      "/var/folders/0k/7cbvxwfn3tz4twsbtpvx93s40000gn/T/ipykernel_50293/2651190018.py:12: UserWarning: Adding colorbar to a different Figure <Figure size 2000x1200 with 2 Axes> than <Figure size 2000x1200 with 2 Axes> which fig.colorbar is called on.\n",
      "  fig.colorbar(c, cax=cax, label='divergence')\n"
     ]
    }
   ],
   "source": [
    "# Plot divergence\n",
    "flow_divergence = post.divergence(x,y,u,v)\n",
    "fig, ax = plt.subplots(figsize=(10, 6))\n",
    "cf = ax.contourf(x, y, flow_divergence, 50, cmap='jet',zorder =1)\n",
    "ax.imshow(img, cmap='gray', origin='upper', extent=[x.min(), x.max(), y.min(), y.max()], alpha=0.5,zorder=2)\n",
    "ax.set_xlabel('x (m)',fontsize=18)\n",
    "ax.set_ylabel('y (m)',fontsize=18)\n",
    "ax.set_title('Instantenous divergence at '+str(time_stamp)+ 's',fontsize=18)\n",
    "# Make the colorbar the same height as the plot\n",
    "divider = make_axes_locatable(ax)\n",
    "cax = divider.append_axes(\"right\", size=\"5%\", pad=0.05)\n",
    "fig.colorbar(c, cax=cax, label='divergence')\n",
    "plt.show()\n",
    "# Save the figure as PNG\n",
    "figname=dirResults+'Figure_divergence_at_'+str(time_stamp)+'s.png'\n",
    "fig.savefig(figname, dpi=300, bbox_inches='tight')\n"
   ]
  },
  {
   "cell_type": "markdown",
   "id": "c609084b",
   "metadata": {},
   "source": [
    "## Plot streamlines"
   ]
  },
  {
   "cell_type": "code",
   "execution_count": 8,
   "id": "b5a8317e",
   "metadata": {},
   "outputs": [],
   "source": [
    "# # Plot streamlines\n",
    "# post.stream_lines(x,y,u,v)"
   ]
  },
  {
   "cell_type": "markdown",
   "id": "60dc45fa",
   "metadata": {},
   "source": [
    "## Extract velocity profile along a segment"
   ]
  },
  {
   "cell_type": "code",
   "execution_count": 9,
   "id": "ffd22f29",
   "metadata": {},
   "outputs": [
    {
     "name": "stdout",
     "output_type": "stream",
     "text": [
      "./EPM_3992_results_piv16x16/0-2231_5digits/gpu_field_00000.npz\n"
     ]
    }
   ],
   "source": [
    "print(filename)\n",
    "\n",
    "data=velocity_magnitude\n",
    "xdata=x\n",
    "ydata=y\n",
    "datamin = data.min()\n",
    "datamax = data.max() \n",
    "\n",
    "vmin = 0 # Set your desired minimum value\n",
    "vmax = 0.025 #velocity_magnitude.max() # Or set a custom maximum value\n",
    "\n",
    "fig, ax = plt.subplots(figsize=(10, 6))\n",
    "c = ax.pcolormesh(x, y, velocity_magnitude, shading='auto', cmap='inferno', vmin=vmin, vmax=vmax,zorder=1)\n",
    "ax.imshow(img, cmap='gray', origin='upper', extent=[x.min(), x.max(), y.min(), y.max()], alpha=0.5,zorder=2)\n",
    "# Plot the velocity magnitude colormesh\n",
    "ax.set_xlabel('x (m)')\n",
    "ax.set_ylabel('y (m)')\n",
    "ax.set_title('Select two points to plot magnitude along the line')\n",
    "# Make the colorbar the same height as the plot\n",
    "divider = make_axes_locatable(ax)\n",
    "cax = divider.append_axes(\"right\", size=\"5%\", pad=0.05)\n",
    "fig.colorbar(c, cax=cax, label='Velocity Magnitude (u² + v²) in m/s')\n",
    "\n",
    "\n",
    "#Let user select two points\n",
    "pts = plt.ginput(2)\n",
    "plt.close(fig)\n",
    "\n",
    "# Extract coordinates\n",
    "(x0, y0), (x1, y1) = pts\n",
    "\n",
    "# Number of points along the line\n",
    "num_points = 200\n",
    "x_line = np.linspace(x0, x1, num_points)\n",
    "y_line = np.linspace(y0, y1, num_points)\n",
    "\n",
    "# Interpolate magnitude along the line\n",
    "\n",
    "magnitude_along_line = griddata((xdata.flatten(), ydata.flatten()), data.flatten(), (x_line, y_line), method='linear')\n",
    "distances = distance.cdist([[x0, y0]], np.column_stack((x_line, y_line))).flatten()\n",
    "\n",
    "# Define Gaussian function\n",
    "def gaussian(x, a, x0, sigma, c):\n",
    "    return a * np.exp(-(x - x0)**2 / (2 * sigma**2)) + c\n",
    "\n",
    "# Remove NaNs for fitting\n",
    "mask = ~np.isnan(magnitude_along_line)\n",
    "x_fit = distances[mask]\n",
    "y_fit = magnitude_along_line[mask]\n",
    "\n",
    "# Initial guess for parameters: amplitude, center, width, offset\n",
    "initial_guess = [y_fit.max(), x_fit[np.argmax(y_fit)], (x_fit.max()-x_fit.min())/4, y_fit.min()]\n",
    "\n",
    "# Fit Gaussian\n",
    "popt, pcov = curve_fit(gaussian, x_fit, y_fit, p0=initial_guess)\n",
    "\n",
    "\n",
    "\n",
    "# Plot magnitude along the line\n",
    "fig, ax = plt.subplots(figsize=(10, 6))\n",
    "ax.plot(distances, magnitude_along_line, marker='o')\n",
    "ax.plot(x_fit, gaussian(x_fit, *popt), 'r-', label='Gaussian Fit')\n",
    "ax.set_xlabel('Distance along the chord (m)')\n",
    "ax.set_ylabel('Velocity magnitude in m/s')\n",
    "ax.set_title('Velocity profile at '+str(time_stamp)+'s') \n",
    "ax.grid(True)\n",
    "ax.legend()\n",
    "plt.show()\n",
    "\n",
    "# Save the figure as PNG\n",
    "figname=dirResults+'Figure_profileVelocity_at_'+str(time_stamp)+'s.png'\n",
    "fig.savefig(figname, dpi=300, bbox_inches='tight')"
   ]
  },
  {
   "cell_type": "markdown",
   "id": "53d260ad",
   "metadata": {},
   "source": [
    "# Calculate the mean values"
   ]
  },
  {
   "cell_type": "code",
   "execution_count": 10,
   "id": "cc618e46",
   "metadata": {},
   "outputs": [],
   "source": [
    "files = os.listdir(dirResults)\n",
    "files = sorted([i for i in files if i.endswith('.npz')]);\n",
    "#print(files)\n",
    "\n",
    "for i in range(len(files)):\n",
    "    Data = np.load(dirResults+files[i])\n",
    "    x = Data['x']\n",
    "    y = Data['y']\n",
    "    u = Data['u']\n",
    "    v = Data['v']\n",
    "    if i==0:\n",
    "        xvort,yvort,vorticity=post.vorticity(x, y, u, v, 'circulation')\n",
    "        magnitude_mean = np.zeros(u.shape)\n",
    "        vorticity_mean = np.zeros(vorticity.shape)\n",
    "    magnitude=np.sqrt(u**2 + v**2)\n",
    "    xvort,yvort,vorticity=post.vorticity(x, y, u, v, 'circulation')\n",
    "    magnitude_mean+= magnitude\n",
    "    vorticity_mean+= vorticity\n",
    "\n",
    "magnitude_mean/=len(files)  \n",
    "vorticity_mean/=len(files)\n"
   ]
  },
  {
   "cell_type": "markdown",
   "id": "8640bf60",
   "metadata": {},
   "source": [
    "## plot mean vorticity"
   ]
  },
  {
   "cell_type": "code",
   "execution_count": 11,
   "id": "44faa0b4",
   "metadata": {},
   "outputs": [],
   "source": [
    "\n",
    "data=vorticity_mean\n",
    "xdata=xvort\n",
    "ydata=yvort\n",
    "datamin = data.min() # Set your desired minimum value\n",
    "datamax = data.max() #velocity_magnitude.max() # Or set a custom maximum value\n",
    "\n",
    "fig, ax = plt.subplots(figsize=(10, 6))\n",
    "c = ax.pcolormesh(xdata, ydata, data, shading='auto', cmap='inferno', vmin=datamin, vmax=datamax, zorder =1)\n",
    "ax.imshow(img, cmap='gray', origin='upper', extent=[x.min(), x.max(), y.min(), y.max()], alpha=0.5,zorder=2)\n",
    "ax.set_xlabel('x (m)', fontsize=18)\n",
    "ax.set_ylabel('y (m)', fontsize=18)\n",
    "ax.set_title('Mean Vorticity over '+str(len(files)*dt)+' s')\n",
    "# Make the colorbar the same height as the plot\n",
    "divider = make_axes_locatable(ax)\n",
    "cax = divider.append_axes(\"right\", size=\"5%\", pad=0.05)\n",
    "fig.colorbar(c, cax=cax, label='Vorticity')\n",
    "# plt.show()\n",
    "# Save the figure as PNG\n",
    "figname=dirResults+'Figure_meanVorticity.png'\n",
    "fig.savefig(figname, dpi=300, bbox_inches='tight')"
   ]
  },
  {
   "cell_type": "markdown",
   "id": "91399920",
   "metadata": {},
   "source": [
    "## plot mean velocity magnitude"
   ]
  },
  {
   "cell_type": "code",
   "execution_count": 12,
   "id": "c79cb2cc",
   "metadata": {},
   "outputs": [],
   "source": [
    "data=magnitude_mean\n",
    "xdata=x\n",
    "ydata=y\n",
    "datamin = data.min()# Set your desired minimum value\n",
    "datamax = data.max() #velocity_magnitude.max() # Or set a custom maximum value\n",
    "\n",
    "fig, ax = plt.subplots(figsize=(10, 6))\n",
    "c = ax.pcolormesh(xdata, ydata, data, shading='auto', cmap='inferno', vmin=datamin, vmax=datamax,zorder=1)\n",
    "ax.imshow(img, cmap='gray', origin='upper', extent=[x.min(), x.max(), y.min(), y.max()], alpha=0.5,zorder=2)\n",
    "ax.set_xlabel('x (m)', fontsize=18)\n",
    "ax.set_ylabel('y (m)', fontsize=18)\n",
    "ax.set_title('Mean velocity over '+str(len(files)*dt)+'s')\n",
    "# Make the colorbar the same height as the plot\n",
    "divider = make_axes_locatable(ax)\n",
    "cax = divider.append_axes(\"right\", size=\"5%\", pad=0.05)\n",
    "fig.colorbar(c, cax=cax, label='velocity(m/s)')\n",
    "plt.show()\n",
    "# Save the figure as PNG\n",
    "figname=dirResults+'Figure_meanVelocity.png'\n",
    "fig.savefig(figname, dpi=300, bbox_inches='tight')"
   ]
  },
  {
   "cell_type": "markdown",
   "id": "44181c17",
   "metadata": {},
   "source": [
    "## extract mean velocity magnitude along segment"
   ]
  },
  {
   "cell_type": "code",
   "execution_count": 13,
   "id": "eb8ea093",
   "metadata": {},
   "outputs": [],
   "source": [
    "data=magnitude_mean\n",
    "xdata=x\n",
    "ydata=y\n",
    "datamin = data.min()\n",
    "datamax = data.max() \n",
    "\n",
    "fig, ax = plt.subplots(figsize=(10, 6))\n",
    "c = ax.pcolormesh(xdata, ydata, data, shading='auto', cmap='inferno', vmin=datamin, vmax=datamax,zorder=1)\n",
    "ax.imshow(img, cmap='gray', origin='upper', extent=[x.min(), x.max(), y.min(), y.max()], alpha=0.5,zorder=2)\n",
    "ax.set_xlabel('x (m)')\n",
    "ax.set_ylabel('y (m)')\n",
    "ax.set_title('Select two points to plot magnitude along the line')\n",
    "# Make the colorbar the same height as the plot\n",
    "divider = make_axes_locatable(ax)\n",
    "cax = divider.append_axes(\"right\", size=\"5%\", pad=0.05)\n",
    "fig.colorbar(c, cax=cax, label='Velocity Magnitude (u² + v²) in m/s')\n",
    "\n",
    "\n",
    "#Let user select two points\n",
    "pts = plt.ginput(2)\n",
    "plt.close(fig)\n",
    "\n",
    "# Extract coordinates\n",
    "(x0, y0), (x1, y1) = pts\n",
    "\n",
    "# Number of points along the line\n",
    "num_points = 200\n",
    "x_line = np.linspace(x0, x1, num_points)\n",
    "y_line = np.linspace(y0, y1, num_points)\n",
    "\n",
    "# Interpolate magnitude along the line\n",
    "\n",
    "magnitude_along_line = griddata((xdata.flatten(), ydata.flatten()), data.flatten(), (x_line, y_line), method='linear')\n",
    "distances = distance.cdist([[x0, y0]], np.column_stack((x_line, y_line))).flatten()\n",
    "\n",
    "# Define Gaussian function\n",
    "def gaussian(x, a, x0, sigma, c):\n",
    "    return a * np.exp(-(x - x0)**2 / (2 * sigma**2)) + c\n",
    "\n",
    "# Remove NaNs for fitting\n",
    "mask = ~np.isnan(magnitude_along_line)\n",
    "x_fit = distances[mask]\n",
    "y_fit = magnitude_along_line[mask]\n",
    "\n",
    "# Initial guess for parameters: amplitude, center, width, offset\n",
    "initial_guess = [y_fit.max(), x_fit[np.argmax(y_fit)], (x_fit.max()-x_fit.min())/4, y_fit.min()]\n",
    "\n",
    "# Fit Gaussian\n",
    "popt, pcov = curve_fit(gaussian, x_fit, y_fit, p0=initial_guess)\n",
    "\n",
    "\n",
    "\n",
    "# Plot magnitude along the line\n",
    "fig, ax = plt.subplots(figsize=(10, 6))\n",
    "ax.plot(distances, magnitude_along_line, marker='o')\n",
    "ax.plot(x_fit, gaussian(x_fit, *popt), 'r-', label='Gaussian Fit')\n",
    "ax.set_xlabel('Distance along the chord (m)')\n",
    "ax.set_ylabel('Velocity magnitude in m/s')\n",
    "ax.set_title('Mean velocity profile over '+str(len(files)*dt)+'s') \n",
    "ax.grid(True)\n",
    "ax.legend()\n",
    "plt.show()\n",
    "\n",
    "# Save the figure as PNG\n",
    "figname=dirResults+'Figure_profileMeanVelocity.png'\n",
    "fig.savefig(figname, dpi=300, bbox_inches='tight')"
   ]
  },
  {
   "cell_type": "markdown",
   "id": "f7332fcc",
   "metadata": {},
   "source": [
    "# Frequency analysis"
   ]
  },
  {
   "cell_type": "markdown",
   "id": "363e55b4",
   "metadata": {},
   "source": [
    "## Define rectangular ROI "
   ]
  },
  {
   "cell_type": "code",
   "execution_count": 14,
   "id": "9aef5168",
   "metadata": {},
   "outputs": [
    {
     "name": "stdout",
     "output_type": "stream",
     "text": [
      "./EPM_3992_results_piv16x16/0-2231_5digits/\n",
      "Rectangle corners: (0.08345407981143466, 0.07168526182031253) and (0.10120513962606531, 0.0677661386633523)\n"
     ]
    }
   ],
   "source": [
    "print(dirResults)\n",
    "\n",
    "data=magnitude_mean\n",
    "xdata=x\n",
    "ydata=y\n",
    "datamin = data.min()\n",
    "datamax = data.max() \n",
    "\n",
    "\n",
    "# Plot the velocity magnitude colormesh\n",
    "fig, ax = plt.subplots(figsize=(10, 6))\n",
    "#c = ax.pcolormesh(xdata, ydata, data, shading='auto', cmap='inferno', zorder = 1)\n",
    "c = ax.pcolormesh(xdata, ydata, data, shading='auto', cmap='inferno', vmin=datamin, vmax=datamax,zorder=1)\n",
    "ax.imshow(img, cmap='gray', origin='upper', extent=[x.min(), x.max(), y.min(), y.max()], alpha=0.5,zorder=2)\n",
    "ax.set_xlabel('x (m)')\n",
    "ax.set_ylabel('y (m)')\n",
    "ax.set_title('Select two corners of a rectangle')\n",
    "# Make the colorbar the same height as the plot\n",
    "divider = make_axes_locatable(ax)\n",
    "cax = divider.append_axes(\"right\", size=\"5%\", pad=0.05)\n",
    "fig.colorbar(c, cax=cax, label='Velocity Magnitude')\n",
    "\n",
    "\n",
    "# Let user select two corners (diagonally opposite)\n",
    "pts = plt.ginput(2)\n",
    "(x1, y1), (x2, y2) = pts\n",
    "\n",
    "# Draw rectangle on the original figure\n",
    "rect = Rectangle((min(x1, x2), min(y1, y2)), abs(x2-x1), abs(y2-y1),\n",
    "                 linewidth=2, edgecolor='cyan', facecolor='none')\n",
    "ax.add_patch(rect)\n",
    "plt.draw()\n",
    "\n",
    "print(f\"Rectangle corners: ({x1}, {y1}) and ({x2}, {y2})\")\n",
    "\n",
    "# Mask for points inside the rectangle\n",
    "mask = (xdata >= min(x1, x2)) & (xdata <= max(x1, x2)) & (ydata >= min(y1, y2)) & (ydata <= max(y1, y2))\n",
    "\n",
    "# Save the figure as PNG\n",
    "figname=dirResults+'Figure_ROI.png'\n",
    "fig.savefig(figname, dpi=300, bbox_inches='tight')"
   ]
  },
  {
   "cell_type": "markdown",
   "id": "a0a35a2a",
   "metadata": {},
   "source": [
    "## extract ROI averaged velocities and plot"
   ]
  },
  {
   "cell_type": "code",
   "execution_count": 15,
   "id": "3898d1f7",
   "metadata": {},
   "outputs": [
    {
     "name": "stdout",
     "output_type": "stream",
     "text": [
      "./EPM_3992_results_piv16x16/0-2231_5digits/\n"
     ]
    }
   ],
   "source": [
    "\n",
    "files = os.listdir(dirResults)\n",
    "print(dirResults)\n",
    "files = sorted([i for i in files if i.endswith(extension)]);\n",
    "uTS=[]\n",
    "vTS=[]\n",
    "t=[]\n",
    "for i in range(len(files)):\n",
    "    Data = np.load(dirResults+files[i])\n",
    "    u = Data['u'][mask] \n",
    "    v = Data['v'][mask]\n",
    "    uTS.append(np.mean(u))\n",
    "    vTS.append(np.mean(v)) \n",
    "    t.append(i*dt)  # Assuming each file corresponds to a time step; adjust as needed     \n",
    "\n",
    "magnitudeTS=np.sqrt(np.array(uTS)**2 + np.array(vTS)**2)\n",
    "fig, ax = plt.subplots(figsize=(10, 6))\n",
    "ax.plot(t, uTS, label='u component')\n",
    "ax.plot(t, vTS, label='v component')\n",
    "ax.plot(t, magnitudeTS, label='velocity magnitude')\n",
    "ax.set_xlabel('Time (s)')\n",
    "ax.set_ylabel('Mean Velocity (m/s)')\n",
    "ax.set_title('time series of the Velocity averaged over the ROI')\n",
    "ax.legend()\n",
    "plt.show()\n",
    "\n",
    "\n",
    "# Save the figure as PNG\n",
    "figname=dirResults+'Figure_timeseriesVelocity.png'\n",
    "fig.savefig(figname, dpi=300, bbox_inches='tight')"
   ]
  },
  {
   "cell_type": "markdown",
   "id": "fd17ed17",
   "metadata": {},
   "source": [
    "## Calculate the FFT"
   ]
  },
  {
   "cell_type": "code",
   "execution_count": 16,
   "id": "3dfaa7c6",
   "metadata": {},
   "outputs": [],
   "source": [
    "# Calculate FFT of uTS\n",
    "import numpy as np\n",
    "\n",
    "# t=np.asarray(t)\n",
    "# uTS = np.sin(2*np.pi*t*1)  + 0.5*np.random.randn(len(t)) # Example signal: 1 Hz sine wave + noise\n",
    "data=uTS\n",
    "data_arr = np.array(data)-np.mean(data)  # Detrend by removing mean\n",
    "N = len(data_arr)\n",
    "freq = np.fft.rfftfreq(N, dt)\n",
    "data_fft = np.fft.rfft(data_arr)\n",
    "\n",
    "fig, ax = plt.subplots(figsize=(10, 6))\n",
    "ax.plot(freq, np.abs(data_fft))\n",
    "ax.set_xlabel('Frequency (Hz)')\n",
    "ax.set_ylabel('FFT Amplitude')\n",
    "ax.set_title('FFT of Mean u in ROI')\n",
    "# Save the figure as PNG\n",
    "figname=dirResults+'Figure_FFTVelocity.png'\n",
    "fig.savefig(figname, dpi=300, bbox_inches='tight')"
   ]
  },
  {
   "cell_type": "code",
   "execution_count": null,
   "id": "3b3e3045",
   "metadata": {},
   "outputs": [],
   "source": []
  }
 ],
 "metadata": {
  "kernelspec": {
   "display_name": "dpivsoft",
   "language": "python",
   "name": "python3"
  },
  "language_info": {
   "codemirror_mode": {
    "name": "ipython",
    "version": 3
   },
   "file_extension": ".py",
   "mimetype": "text/x-python",
   "name": "python",
   "nbconvert_exporter": "python",
   "pygments_lexer": "ipython3",
   "version": "3.11.11"
  }
 },
 "nbformat": 4,
 "nbformat_minor": 5
}
